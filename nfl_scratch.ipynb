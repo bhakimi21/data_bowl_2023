{
 "cells": [
  {
   "cell_type": "markdown",
   "metadata": {},
   "source": [
    "## NFL Big Data Bowl"
   ]
  },
  {
   "cell_type": "code",
   "execution_count": 1,
   "metadata": {},
   "outputs": [],
   "source": [
    "# imports\n",
    "import pandas as pd\n",
    "import numpy as np\n",
    "from fpdf import FPDF"
   ]
  },
  {
   "cell_type": "code",
   "execution_count": 2,
   "metadata": {},
   "outputs": [],
   "source": [
    "# User Inputs\n",
    "\n",
    "# Which team you would like to scout out\n",
    "comparison_team = \"CHI\"\n",
    "# Options:\n",
    "# ['DAL', 'TB', 'PHI', 'ATL', 'PIT', 'BUF', 'CAR', 'NYJ', 'CIN',\n",
    "#  'MIN', 'SF', 'DET', 'JAX', 'HOU', 'SEA', 'IND', 'ARI', 'TEN',\n",
    "#  'WAS', 'LAC', 'KC', 'CLE', 'MIA', 'NE', 'GB', 'NO', 'DEN', 'NYG',\n",
    "#  'LA', 'CHI', 'BAL', 'LV']\n",
    "\n",
    "comparison_threshold = 20 ## The threshold that determines if a team's tendancy is an anomoly: for example when set \n",
    "                          ## at 20 a team's metric would need to be 20% higher or lower than the baseline to be flagged\n",
    "\n",
    "# This being true will display more dataframes within the notebook\n",
    "qa_check = True ## True or False"
   ]
  },
  {
   "cell_type": "code",
   "execution_count": null,
   "metadata": {},
   "outputs": [],
   "source": []
  },
  {
   "cell_type": "code",
   "execution_count": 3,
   "metadata": {},
   "outputs": [],
   "source": [
    "## Set up PDF output\n",
    "pdf = FPDF()\n",
    "pdf.add_page()\n",
    "pdf.set_font('Arial', 'B', 20)\n",
    "title = comparison_team + \" Defense Stunt Breakdown\"\n",
    "pdf.cell(w=0, h=20, txt=title, ln=1)"
   ]
  },
  {
   "cell_type": "code",
   "execution_count": 4,
   "metadata": {},
   "outputs": [],
   "source": [
    "# get data\n",
    "games = pd.read_csv(\"games.csv\")\n",
    "scouting = pd.read_csv(\"pffScoutingData.csv\")\n",
    "players = pd.read_csv(\"players.csv\")\n",
    "plays = pd.read_csv(\"plays.csv\")\n",
    "week1 = pd.read_csv(\"week1.csv\")\n",
    "week2 = pd.read_csv(\"week2.csv\")\n",
    "week3 = pd.read_csv(\"week3.csv\")\n",
    "week4 = pd.read_csv(\"week4.csv\")\n",
    "week5 = pd.read_csv(\"week5.csv\")\n",
    "week6 = pd.read_csv(\"week6.csv\")\n",
    "week7 = pd.read_csv(\"week7.csv\")\n",
    "week8 = pd.read_csv(\"week8.csv\")"
   ]
  },
  {
   "cell_type": "code",
   "execution_count": 5,
   "metadata": {},
   "outputs": [],
   "source": [
    "# Combine all position data into one dataset\n",
    "all_weeks = week1.append(week2, ignore_index = True)\n",
    "all_weeks = all_weeks.append(week3, ignore_index = True)\n",
    "all_weeks = all_weeks.append(week4, ignore_index = True)\n",
    "all_weeks = all_weeks.append(week5, ignore_index = True)\n",
    "all_weeks = all_weeks.append(week6, ignore_index = True)\n",
    "all_weeks = all_weeks.append(week7, ignore_index = True)\n",
    "all_weeks = all_weeks.append(week8, ignore_index = True)"
   ]
  },
  {
   "cell_type": "code",
   "execution_count": 6,
   "metadata": {},
   "outputs": [
    {
     "name": "stdout",
     "output_type": "stream",
     "text": [
      "             gameId  playId    nflId  frameId                     time  \\\n",
      "0        2021090900      97  25511.0        1  2021-09-10T00:26:31.100   \n",
      "1        2021090900      97  25511.0        2  2021-09-10T00:26:31.200   \n",
      "2        2021090900      97  25511.0        3  2021-09-10T00:26:31.300   \n",
      "3        2021090900      97  25511.0        4  2021-09-10T00:26:31.400   \n",
      "4        2021090900      97  25511.0        5  2021-09-10T00:26:31.500   \n",
      "...             ...     ...      ...      ...                      ...   \n",
      "8314173  2021110100    4433      NaN       54  2021-11-02T03:20:26.500   \n",
      "8314174  2021110100    4433      NaN       55  2021-11-02T03:20:26.600   \n",
      "8314175  2021110100    4433      NaN       56  2021-11-02T03:20:26.700   \n",
      "8314176  2021110100    4433      NaN       57  2021-11-02T03:20:26.800   \n",
      "8314177  2021110100    4433      NaN       58  2021-11-02T03:20:26.900   \n",
      "\n",
      "         jerseyNumber      team playDirection      x      y     s     a   dis  \\\n",
      "0                12.0        TB         right  37.77  24.22  0.29  0.30  0.03   \n",
      "1                12.0        TB         right  37.78  24.22  0.23  0.11  0.02   \n",
      "2                12.0        TB         right  37.78  24.24  0.16  0.10  0.01   \n",
      "3                12.0        TB         right  37.73  24.25  0.15  0.24  0.06   \n",
      "4                12.0        TB         right  37.69  24.26  0.25  0.18  0.04   \n",
      "...               ...       ...           ...    ...    ...   ...   ...   ...   \n",
      "8314173           NaN  football         right  24.17  27.89  2.47  2.28  0.25   \n",
      "8314174           NaN  football         right  24.36  28.03  2.36  2.16  0.24   \n",
      "8314175           NaN  football         right  24.55  28.17  2.25  1.45  0.23   \n",
      "8314176           NaN  football         right  24.73  28.31  2.28  0.72  0.23   \n",
      "8314177           NaN  football         right  24.91  28.45  2.32  0.54  0.23   \n",
      "\n",
      "              o     dir event  \n",
      "0        165.16   84.99  None  \n",
      "1        164.33   92.87  None  \n",
      "2        160.24   68.55  None  \n",
      "3        152.13  296.85  None  \n",
      "4        148.33  287.55  None  \n",
      "...         ...     ...   ...  \n",
      "8314173     NaN     NaN  None  \n",
      "8314174     NaN     NaN  None  \n",
      "8314175     NaN     NaN  None  \n",
      "8314176     NaN     NaN  None  \n",
      "8314177     NaN     NaN  None  \n",
      "\n",
      "[8314178 rows x 16 columns]\n"
     ]
    }
   ],
   "source": [
    "if qa_check:\n",
    "    print(all_weeks)"
   ]
  },
  {
   "cell_type": "code",
   "execution_count": 7,
   "metadata": {},
   "outputs": [
    {
     "name": "stdout",
     "output_type": "stream",
     "text": [
      "          gameId  playId  snapFrame\n",
      "0     2021090900      97          6\n",
      "1     2021090900     137          7\n",
      "2     2021090900     187          6\n",
      "3     2021090900     282          6\n",
      "4     2021090900     349          7\n",
      "...          ...     ...        ...\n",
      "8527  2021110100    4310          7\n",
      "8528  2021110100    4363          7\n",
      "8529  2021110100    4392          7\n",
      "8530  2021110100    4411          7\n",
      "8531  2021110100    4433          7\n",
      "\n",
      "[8532 rows x 3 columns]\n"
     ]
    }
   ],
   "source": [
    "# Find when the ball was snapped on each play to be able to determine 1.5 seconds of play time\n",
    "ball_snap_df = all_weeks[(all_weeks['team'] == \"football\") & (all_weeks['event'] == \"ball_snap\")]\n",
    "ball_snap_df = ball_snap_df[['gameId', 'playId', 'frameId']].reset_index(drop=True)\n",
    "ball_snap_df.rename(columns={'frameId':'snapFrame'}, inplace=True)\n",
    "if qa_check:\n",
    "    print(ball_snap_df)"
   ]
  },
  {
   "cell_type": "code",
   "execution_count": 8,
   "metadata": {},
   "outputs": [
    {
     "name": "stdout",
     "output_type": "stream",
     "text": [
      "             gameId  playId    nflId  frameId                     time  \\\n",
      "0        2021090900      97  25511.0        1  2021-09-10T00:26:31.100   \n",
      "1        2021090900      97  25511.0        2  2021-09-10T00:26:31.200   \n",
      "2        2021090900      97  25511.0        3  2021-09-10T00:26:31.300   \n",
      "3        2021090900      97  25511.0        4  2021-09-10T00:26:31.400   \n",
      "4        2021090900      97  25511.0        5  2021-09-10T00:26:31.500   \n",
      "...             ...     ...      ...      ...                      ...   \n",
      "8314173  2021110100    4433      NaN       54  2021-11-02T03:20:26.500   \n",
      "8314174  2021110100    4433      NaN       55  2021-11-02T03:20:26.600   \n",
      "8314175  2021110100    4433      NaN       56  2021-11-02T03:20:26.700   \n",
      "8314176  2021110100    4433      NaN       57  2021-11-02T03:20:26.800   \n",
      "8314177  2021110100    4433      NaN       58  2021-11-02T03:20:26.900   \n",
      "\n",
      "         jerseyNumber      team playDirection      x      y     s     a   dis  \\\n",
      "0                12.0        TB         right  37.77  24.22  0.29  0.30  0.03   \n",
      "1                12.0        TB         right  37.78  24.22  0.23  0.11  0.02   \n",
      "2                12.0        TB         right  37.78  24.24  0.16  0.10  0.01   \n",
      "3                12.0        TB         right  37.73  24.25  0.15  0.24  0.06   \n",
      "4                12.0        TB         right  37.69  24.26  0.25  0.18  0.04   \n",
      "...               ...       ...           ...    ...    ...   ...   ...   ...   \n",
      "8314173           NaN  football         right  24.17  27.89  2.47  2.28  0.25   \n",
      "8314174           NaN  football         right  24.36  28.03  2.36  2.16  0.24   \n",
      "8314175           NaN  football         right  24.55  28.17  2.25  1.45  0.23   \n",
      "8314176           NaN  football         right  24.73  28.31  2.28  0.72  0.23   \n",
      "8314177           NaN  football         right  24.91  28.45  2.32  0.54  0.23   \n",
      "\n",
      "              o     dir event  snapFrame  \n",
      "0        165.16   84.99  None        6.0  \n",
      "1        164.33   92.87  None        6.0  \n",
      "2        160.24   68.55  None        6.0  \n",
      "3        152.13  296.85  None        6.0  \n",
      "4        148.33  287.55  None        6.0  \n",
      "...         ...     ...   ...        ...  \n",
      "8314173     NaN     NaN  None        7.0  \n",
      "8314174     NaN     NaN  None        7.0  \n",
      "8314175     NaN     NaN  None        7.0  \n",
      "8314176     NaN     NaN  None        7.0  \n",
      "8314177     NaN     NaN  None        7.0  \n",
      "\n",
      "[8314178 rows x 17 columns]\n"
     ]
    }
   ],
   "source": [
    "# Combine position data with ball snap\n",
    "all_weeks = pd.merge(all_weeks, ball_snap_df, how = \"left\", on = [\"gameId\", \"playId\"])\n",
    "if qa_check:\n",
    "    print(all_weeks)"
   ]
  },
  {
   "cell_type": "code",
   "execution_count": null,
   "metadata": {},
   "outputs": [],
   "source": []
  },
  {
   "cell_type": "code",
   "execution_count": null,
   "metadata": {},
   "outputs": [
    {
     "name": "stdout",
     "output_type": "stream",
     "text": [
      "weird play\n"
     ]
    }
   ],
   "source": [
    "# This whole section is to ID the stunts\n",
    "# It goes through every player rushing the passer in every game and identifies \n",
    "# any pass rushers that cross over one another in the first 1.5 seconds after the\n",
    "# ball is snapped. If any two players do this the play is flagged as stunt = 1\n",
    "\n",
    "game_list = all_weeks['gameId'].unique().tolist()\n",
    "\n",
    "for game in game_list:\n",
    "    one_game = all_weeks[(all_weeks['gameId'] == game)]\n",
    "    play_list = one_game['playId'].unique().tolist()\n",
    "\n",
    "    for play in play_list:\n",
    "        \n",
    "        one_play = one_game[(one_game['playId'] == play)]\n",
    "        one_play = pd.merge(one_play, scouting[['gameId', 'playId', 'nflId', 'pff_role']], how = \"left\", on = [\"gameId\", \"playId\", \"nflId\"])\n",
    "\n",
    "        one_play = one_play[one_play['pff_role']==\"Pass Rush\"]\n",
    "        one_play_15frames = one_play[(one_play['frameId'] == one_play['snapFrame']) | (one_play['frameId'] == one_play['snapFrame']+14)]\n",
    "\n",
    "        pivot_column = one_play_15frames[\"nflId\"].astype(int).astype(str) + \"_\" + one_play_15frames[\"frameId\"].astype(str)\n",
    "        pivot_column = pivot_column.to_frame()\n",
    "        pivot_column.rename(columns={0:'pivotColumn'}, inplace=True)\n",
    "\n",
    "        one_play_15frames = one_play_15frames.join(pivot_column)\n",
    "\n",
    "        pivoted = pd.pivot(one_play_15frames, index=['gameId','playId'], columns = 'pivotColumn', values = 'y')\n",
    "\n",
    "        player_list = one_play_15frames['nflId'].astype(int).astype(str).unique().tolist()\n",
    "        frame_list = one_play_15frames['frameId'].astype(int).astype(str).unique().tolist()\n",
    "        \n",
    "        if len(frame_list) < 2:\n",
    "            frame_list = ['0', '0']\n",
    "\n",
    "        stunt = 0\n",
    "        try:\n",
    "            for i in player_list:\n",
    "                for j in player_list:\n",
    "                    i0 = i+'_'+frame_list[0]\n",
    "                    i1 = i+'_'+frame_list[1]\n",
    "                    j0 = j+'_'+frame_list[0]\n",
    "                    j1 = j+'_'+frame_list[1]\n",
    "                    diff0 = pivoted.iloc[0][i0] - pivoted.iloc[0][j0]\n",
    "                    diff1 = pivoted.iloc[0][i1] - pivoted.iloc[0][j1]\n",
    "\n",
    "                    if (diff0 > 0 and diff1 <= 0) or (diff0 < 0 and diff1 >= 0):\n",
    "                        stunt = 1\n",
    "                        break\n",
    "\n",
    "                if stunt == 1:\n",
    "                    break\n",
    "\n",
    "            data = {'gameId': [game], 'playId': [play], 'stunt': [stunt], 'num_rush': [len(player_list)]}\n",
    "            \n",
    "        except:\n",
    "            data = {'gameId': [game], 'playId': [play], 'stunt': [None], 'num_rush': [None]}\n",
    "            print('weird play')\n",
    "            \n",
    "        play_df = pd.DataFrame(data=data)\n",
    "\n",
    "        try:\n",
    "            stunt_outcome_df = stunt_outcome_df.append(play_df, ignore_index = True)\n",
    "        except:\n",
    "            stunt_outcome_df = play_df\n",
    "\n",
    "stunt_outcome_df['stunt'] = pd.to_numeric(stunt_outcome_df['stunt'])"
   ]
  },
  {
   "cell_type": "code",
   "execution_count": null,
   "metadata": {},
   "outputs": [],
   "source": [
    "if qa_check:\n",
    "    print(stunt_outcome_df)"
   ]
  },
  {
   "cell_type": "code",
   "execution_count": null,
   "metadata": {},
   "outputs": [],
   "source": []
  },
  {
   "cell_type": "code",
   "execution_count": null,
   "metadata": {},
   "outputs": [],
   "source": [
    "### Find out if play ended in a pressure for future use (pressure is any combination of QB sack, hit or hurry)"
   ]
  },
  {
   "cell_type": "code",
   "execution_count": null,
   "metadata": {},
   "outputs": [],
   "source": [
    "sack_df = scouting.groupby(['gameId', 'playId'])['pff_sack'].max().to_frame()\n",
    "hit_df = scouting.groupby(['gameId', 'playId'])['pff_hit'].max().to_frame()\n",
    "hurry_df = scouting.groupby(['gameId', 'playId'])['pff_hurry'].max().to_frame()"
   ]
  },
  {
   "cell_type": "code",
   "execution_count": null,
   "metadata": {},
   "outputs": [],
   "source": [
    "pressure_df = pd.merge(sack_df, hit_df, how = \"outer\", on = [\"gameId\", \"playId\"])"
   ]
  },
  {
   "cell_type": "code",
   "execution_count": null,
   "metadata": {},
   "outputs": [],
   "source": [
    "pressure_df = pd.merge(pressure_df, hurry_df, how = \"outer\", on = [\"gameId\", \"playId\"])"
   ]
  },
  {
   "cell_type": "code",
   "execution_count": null,
   "metadata": {},
   "outputs": [],
   "source": [
    "pressure_df['pressure'] = [1 if x >= 1 else 0 for x in pressure_df['pff_sack']+pressure_df['pff_hit']+pressure_df['pff_hurry']]"
   ]
  },
  {
   "cell_type": "code",
   "execution_count": null,
   "metadata": {},
   "outputs": [],
   "source": [
    "if qa_check:\n",
    "    print(pressure_df)"
   ]
  },
  {
   "cell_type": "code",
   "execution_count": null,
   "metadata": {},
   "outputs": [],
   "source": []
  },
  {
   "cell_type": "code",
   "execution_count": null,
   "metadata": {},
   "outputs": [],
   "source": [
    "# Combine stunt ID data with pressure data\n",
    "stunt_pressure_df = pd.merge(stunt_outcome_df, pressure_df, how = \"left\", on = [\"gameId\", \"playId\"])\n",
    "if qa_check:\n",
    "    print(stunt_pressure_df)"
   ]
  },
  {
   "cell_type": "code",
   "execution_count": null,
   "metadata": {},
   "outputs": [],
   "source": [
    "# Add all play information for summary statistics\n",
    "stunt_pressure_play_df = pd.merge(stunt_pressure_df, plays, how = \"left\", on = [\"gameId\", \"playId\"])\n",
    "if qa_check:\n",
    "    print(stunt_pressure_play_df)"
   ]
  },
  {
   "cell_type": "code",
   "execution_count": null,
   "metadata": {},
   "outputs": [],
   "source": []
  },
  {
   "cell_type": "code",
   "execution_count": null,
   "metadata": {},
   "outputs": [],
   "source": [
    "## See what situations stunts occur most often in"
   ]
  },
  {
   "cell_type": "code",
   "execution_count": null,
   "metadata": {},
   "outputs": [],
   "source": [
    "stunt_pressure_play_df['to_go_str'] = [\"0-3\" if (x <= 3) else \"3-7\" if (x > 3 and x <= 7) else \"7-10\" if (x > 7 and x <= 10) else \"10+\" for x in stunt_pressure_play_df['yardsToGo']]"
   ]
  },
  {
   "cell_type": "code",
   "execution_count": null,
   "metadata": {},
   "outputs": [],
   "source": [
    "stunt_filtered_df = stunt_pressure_play_df[stunt_pressure_play_df['down']>0]"
   ]
  },
  {
   "cell_type": "code",
   "execution_count": null,
   "metadata": {},
   "outputs": [],
   "source": [
    "team_stunt_down_dist_df = stunt_filtered_df[['defensiveTeam', 'down', 'to_go_str', 'stunt']].groupby(['defensiveTeam', 'down', 'to_go_str']).mean()\n",
    "team_stunt_down_dist_df = team_stunt_down_dist_df.reset_index()"
   ]
  },
  {
   "cell_type": "code",
   "execution_count": null,
   "metadata": {},
   "outputs": [],
   "source": [
    "team_stunt_down_df = stunt_filtered_df[['defensiveTeam', 'down', 'stunt']].groupby(['defensiveTeam', 'down']).mean()\n",
    "team_stunt_down_df['to_go_str']=\"all\"\n",
    "team_stunt_down_df = team_stunt_down_df.reset_index()\n",
    "team_stunt_down_df = team_stunt_down_df[[\"defensiveTeam\", \"down\", \"to_go_str\", \"stunt\"]]"
   ]
  },
  {
   "cell_type": "code",
   "execution_count": null,
   "metadata": {},
   "outputs": [],
   "source": [
    "team_stunt_dist_df = stunt_filtered_df[['defensiveTeam', 'to_go_str', 'stunt']].groupby(['defensiveTeam', 'to_go_str']).mean()\n",
    "team_stunt_dist_df['down']=\"all\"\n",
    "team_stunt_dist_df = team_stunt_dist_df.reset_index()\n",
    "team_stunt_dist_df = team_stunt_dist_df[[\"defensiveTeam\", \"down\", \"to_go_str\", \"stunt\"]]"
   ]
  },
  {
   "cell_type": "code",
   "execution_count": null,
   "metadata": {},
   "outputs": [],
   "source": [
    "team_stunt_df = stunt_filtered_df[['defensiveTeam', 'stunt']].groupby(['defensiveTeam']).mean()\n",
    "team_stunt_df['to_go_str']=\"all\"\n",
    "team_stunt_df['down']=\"all\"\n",
    "team_stunt_df = team_stunt_df.reset_index()\n",
    "team_stunt_df = team_stunt_df[[\"defensiveTeam\", \"down\", \"to_go_str\", \"stunt\"]]"
   ]
  },
  {
   "cell_type": "code",
   "execution_count": null,
   "metadata": {},
   "outputs": [],
   "source": [
    "teams_stunts_all_df = team_stunt_down_df.append(team_stunt_dist_df, ignore_index = True).append(team_stunt_df, ignore_index = True)\n",
    "teams_stunts_all_df = teams_stunts_all_df.sort_values(by = ['defensiveTeam', 'down', 'to_go_str']).reset_index(drop=True)\n",
    "if qa_check:\n",
    "    print(teams_stunts_all_df)"
   ]
  },
  {
   "cell_type": "code",
   "execution_count": null,
   "metadata": {},
   "outputs": [],
   "source": []
  },
  {
   "cell_type": "code",
   "execution_count": null,
   "metadata": {},
   "outputs": [],
   "source": [
    "nfl_stunt_down_dist_df = stunt_filtered_df[['down', 'to_go_str', 'stunt']].groupby(['down', 'to_go_str']).mean()\n",
    "nfl_stunt_down_dist_df[\"league\"] = \"NFL\"\n",
    "nfl_stunt_down_dist_df = nfl_stunt_down_dist_df.reset_index()\n",
    "nfl_stunt_down_dist_df = nfl_stunt_down_dist_df[[\"league\", \"down\", \"to_go_str\", \"stunt\"]]\n",
    "nfl_stunt_down_dist_df.rename(columns={'stunt':'NFLstunt'}, inplace=True)"
   ]
  },
  {
   "cell_type": "code",
   "execution_count": null,
   "metadata": {},
   "outputs": [],
   "source": [
    "nfl_stunt_down_df = stunt_filtered_df[['down', 'stunt']].groupby(['down']).mean()\n",
    "nfl_stunt_down_df[\"league\"] = \"NFL\"\n",
    "nfl_stunt_down_df[\"to_go_str\"] = \"all\"\n",
    "nfl_stunt_down_df = nfl_stunt_down_df.reset_index()\n",
    "nfl_stunt_down_df = nfl_stunt_down_df[[\"league\", \"down\", \"to_go_str\", \"stunt\"]]\n",
    "nfl_stunt_down_df.rename(columns={'stunt':'NFLstunt'}, inplace=True)"
   ]
  },
  {
   "cell_type": "code",
   "execution_count": null,
   "metadata": {},
   "outputs": [],
   "source": [
    "nfl_stunt_dist_df = stunt_filtered_df[['to_go_str', 'stunt']].groupby(['to_go_str']).mean()\n",
    "nfl_stunt_dist_df[\"league\"] = \"NFL\"\n",
    "nfl_stunt_dist_df['down']=\"all\"\n",
    "nfl_stunt_dist_df = nfl_stunt_dist_df.reset_index()\n",
    "nfl_stunt_dist_df = nfl_stunt_dist_df[[\"league\", \"down\", \"to_go_str\", \"stunt\"]]\n",
    "nfl_stunt_dist_df.rename(columns={'stunt':'NFLstunt'}, inplace=True)"
   ]
  },
  {
   "cell_type": "code",
   "execution_count": null,
   "metadata": {},
   "outputs": [],
   "source": [
    "nfl_stunt = stunt_filtered_df[['stunt']].mean()\n",
    "data = {'league': [\"NFL\"], 'down': ['all'], 'to_go_str': [\"all\"], 'NFLstunt': [nfl_stunt[0]]}\n",
    "nfl_stunt_df = pd.DataFrame(data=data)"
   ]
  },
  {
   "cell_type": "code",
   "execution_count": null,
   "metadata": {},
   "outputs": [],
   "source": [
    "nfl_stunts_all_df = nfl_stunt_down_df.append(nfl_stunt_dist_df, ignore_index = True).append(nfl_stunt_df, ignore_index = True)\n",
    "nfl_stunts_all_df = nfl_stunts_all_df.sort_values(by = ['down', 'to_go_str']).reset_index(drop=True)\n",
    "if qa_check:\n",
    "    print(nfl_stunts_all_df)"
   ]
  },
  {
   "cell_type": "code",
   "execution_count": null,
   "metadata": {},
   "outputs": [],
   "source": []
  },
  {
   "cell_type": "code",
   "execution_count": null,
   "metadata": {},
   "outputs": [],
   "source": [
    "### Combine\n",
    "\n",
    "team_comp_df = pd.merge(nfl_stunts_all_df, teams_stunts_all_df[teams_stunts_all_df['defensiveTeam'] == comparison_team], how = \"left\", on = [\"down\", \"to_go_str\"])\n",
    "team_comp_df['defensiveTeam'] = team_comp_df['defensiveTeam'].fillna(comparison_team)\n",
    "team_comp_df['stunt'] = team_comp_df['stunt'].fillna(0)\n",
    "if qa_check:\n",
    "    print(team_comp_df)"
   ]
  },
  {
   "cell_type": "code",
   "execution_count": null,
   "metadata": {},
   "outputs": [],
   "source": [
    "nfl_stunt_total = team_comp_df[(team_comp_df['down'] == \"all\") & (team_comp_df['to_go_str'] == \"all\")]['NFLstunt'].tolist()[0]\n",
    "team_stunt_total = team_comp_df[(team_comp_df['down'] == \"all\") & (team_comp_df['to_go_str'] == \"all\")]['stunt'].tolist()[0]\n",
    "\n",
    "\n",
    "## Add overall stunt tendency to pdf output\n",
    "pdf.set_font('Arial', 'B', 9)\n",
    "pdf.cell(w=65, h=10, txt=comparison_team+' percentage of snaps with stunt:', border=1, ln=0, align='C')\n",
    "pdf.cell(w=20, h=10, txt='', border=0, ln=0, align='C')\n",
    "pdf.cell(w=65, h=10, txt='NFL Avg percentage of snaps with stunt:', border=1, ln=1, align='C')\n",
    "pdf.cell(w=65, h=10, txt=str(100*(round(team_stunt_total,4)))+'%', border=1, ln=0, align='C')\n",
    "pdf.cell(w=20, h=10, txt='', border=0, ln=0, align='C')\n",
    "pdf.cell(w=65, h=10, txt=str(100*(round(nfl_stunt_total,4)))+'%', border=1, ln=1, align='C')\n",
    "pdf.cell(w=30, h=10, txt='', border=0, ln=1, align='C')\n"
   ]
  },
  {
   "cell_type": "code",
   "execution_count": null,
   "metadata": {},
   "outputs": [],
   "source": [
    "team_comp_df['stuntIndex'] = (1+(team_comp_df['stunt']-team_comp_df['NFLstunt'])/team_comp_df['NFLstunt'])*100\n",
    "if qa_check:\n",
    "    print(team_comp_df)"
   ]
  },
  {
   "cell_type": "code",
   "execution_count": null,
   "metadata": {},
   "outputs": [],
   "source": [
    "## Situational stunt tendancy\n",
    "pdf.set_font('Arial', 'B', 14)\n",
    "pdf.cell(w=0, h=10, txt=\"Stunt Rate by Down/Distance\", ln=1)\n",
    "pdf.set_font('Arial', '', 8)\n",
    "\n",
    "high_df = team_comp_df[team_comp_df['stuntIndex'] > 100 + comparison_threshold].reset_index(drop=True)\n",
    "if high_df.shape[0] == 0:\n",
    "    high_str = comparison_team+\" does not have a significantly higher stunt rate than the league average in any down or distance situation\"\n",
    "    pdf.cell(w=0, h=5, txt=high_str, ln=1)\n",
    "    print(high_str)\n",
    "else:\n",
    "    for i in range(high_df.shape[0]):\n",
    "        high_str = \"For down = \"+high_df['down'][i]+\" and yards to go = \"+high_df['to_go_str'][i]+\" \"+comparison_team+\" performs a stunt on \"+round(100*high_df['stunt'][i], 2)+\"% of plays compared to the league average of \"+round(100*high_df['NFLstunt'][i], 2)+\"%\"\n",
    "        pdf.cell(w=0, h=5, txt=high_str, ln=1)\n",
    "        print(high_str)\n"
   ]
  },
  {
   "cell_type": "code",
   "execution_count": null,
   "metadata": {},
   "outputs": [],
   "source": [
    "## Situational stunt tendancy\n",
    "low_df = team_comp_df[team_comp_df['stuntIndex'] < 100 - comparison_threshold].reset_index(drop=True)\n",
    "if low_df.shape[0] == 0:\n",
    "    low_str = comparison_team+\" does not have a significantly lower stunt rate than the league average in any down or distance situation\"\n",
    "    pdf.cell(w=0, h=5, txt=low_str, ln=1)\n",
    "    print(low_str)\n",
    "else:\n",
    "    for i in range(low_df.shape[0]):\n",
    "        low_str = \"For down = \"+str(low_df['down'][i])+\" and yards to go = \"+low_df['to_go_str'][i]+\" \"+comparison_team+\" performs a stunt on \"+str(round(100*low_df['stunt'][i], 2))+\"% of plays compared to the league average of \"+str(round(100*low_df['NFLstunt'][i], 2))+\"%\"\n",
    "        pdf.cell(w=0, h=5, txt=low_str, ln=1)\n",
    "        print(low_str)\n",
    "        \n",
    "pdf.cell(w=30, h=10, txt='', border=0, ln=1, align='C')"
   ]
  },
  {
   "cell_type": "code",
   "execution_count": null,
   "metadata": {},
   "outputs": [],
   "source": []
  },
  {
   "cell_type": "code",
   "execution_count": null,
   "metadata": {},
   "outputs": [],
   "source": [
    "nfl_stunts_full_df = nfl_stunts_all_df.append(nfl_stunt_down_dist_df, ignore_index = True)\n",
    "nfl_stunts_full_df = nfl_stunts_full_df.sort_values(by = ['down', 'to_go_str']).reset_index(drop=True)\n",
    "nfl_stunts_full_df.rename(columns={'league':'League','NFLstunt':'Stunt Percentage', 'down':'Down', 'to_go_str':'Yards to Go'}, inplace=True)"
   ]
  },
  {
   "cell_type": "code",
   "execution_count": null,
   "metadata": {},
   "outputs": [],
   "source": [
    "team_stunts_full_df = teams_stunts_all_df.append(team_stunt_down_dist_df, ignore_index = True)\n",
    "team_stunts_full_df = team_stunts_full_df.sort_values(by = ['defensiveTeam', 'down', 'to_go_str']).reset_index(drop=True)\n",
    "team_stunts_full_df.rename(columns={'defensiveTeam':'Team','stunt':'Stunt Percentage', 'down':'Down', 'to_go_str':'Yards to Go'}, inplace=True)"
   ]
  },
  {
   "cell_type": "code",
   "execution_count": null,
   "metadata": {},
   "outputs": [],
   "source": [
    "all_stunt_sit_df = team_stunts_full_df[team_stunts_full_df['Team'] == comparison_team].reset_index(drop=True)\n",
    "\n",
    "## add stunt table to pdf\n",
    "df = all_stunt_sit_df\n",
    "\n",
    "pdf.set_font('Arial', 'B', 8)\n",
    "pdf.cell(w=30, h=10, txt='Team', border=1, ln=0, align='C')\n",
    "pdf.cell(w=30, h=10, txt='Down', border=1, ln=0, align='C')\n",
    "pdf.cell(w=30, h=10, txt='Yards to Go', border=1, ln=0, align='C')\n",
    "pdf.cell(w=30, h=10, txt='Stunt Percentage', border=1, ln=1, align='C')\n",
    "# Table contents\n",
    "pdf.set_font('Arial', '', 6)\n",
    "for i in range(0, len(df)):\n",
    "    pdf.cell(w=30, h=5, \n",
    "             txt=df['Team'].iloc[i], \n",
    "             border=1, ln=0, align='C')\n",
    "    pdf.cell(w=30, h=5, \n",
    "             txt=str(df['Down'].iloc[i]), \n",
    "             border=1, ln=0, align='C')\n",
    "    pdf.cell(w=30, h=5, \n",
    "             txt=df['Yards to Go'].iloc[i], \n",
    "             border=1, ln=0, align='C')\n",
    "    pdf.cell(w=30, h=5, \n",
    "             txt=str(100*(round(df['Stunt Percentage'].iloc[i],4)))+'%', \n",
    "             border=1, ln=1, align='C')\n",
    "\n",
    "pdf.cell(w=30, h=10, txt='', border=0, ln=1, align='C')    "
   ]
  },
  {
   "cell_type": "code",
   "execution_count": null,
   "metadata": {},
   "outputs": [],
   "source": [
    "print(comparison_team, \"'s average stunt percentage in all situations is the following:\")\n",
    "all_stunt_sit_df"
   ]
  },
  {
   "cell_type": "code",
   "execution_count": null,
   "metadata": {},
   "outputs": [],
   "source": [
    "print(\"The NFL's average stunt percentage in all situations is the following:\")\n",
    "nfl_stunts_full_df"
   ]
  },
  {
   "cell_type": "code",
   "execution_count": null,
   "metadata": {},
   "outputs": [],
   "source": []
  },
  {
   "cell_type": "code",
   "execution_count": null,
   "metadata": {},
   "outputs": [],
   "source": [
    "### See what situations stunts are most effective in creating pressure compared to no stunt"
   ]
  },
  {
   "cell_type": "code",
   "execution_count": null,
   "metadata": {},
   "outputs": [],
   "source": [
    "team_no_stunt_df = stunt_filtered_df[stunt_filtered_df['stunt']==0]\n",
    "team_yes_stunt_df = stunt_filtered_df[stunt_filtered_df['stunt']==1]"
   ]
  },
  {
   "cell_type": "code",
   "execution_count": null,
   "metadata": {},
   "outputs": [],
   "source": [
    "no_s_team_pressure_df1 = team_no_stunt_df[['defensiveTeam', 'down', 'to_go_str', 'pressure']].groupby(['defensiveTeam', 'down', 'to_go_str']).mean()\n",
    "no_s_team_pressure_df1 = no_s_team_pressure_df1.reset_index()"
   ]
  },
  {
   "cell_type": "code",
   "execution_count": null,
   "metadata": {},
   "outputs": [],
   "source": [
    "no_s_team_pressure_df2 = team_no_stunt_df[['defensiveTeam', 'down', 'pressure']].groupby(['defensiveTeam', 'down']).mean()\n",
    "no_s_team_pressure_df2['to_go_str']=\"all\"\n",
    "no_s_team_pressure_df2 = no_s_team_pressure_df2.reset_index()\n",
    "no_s_team_pressure_df2 = no_s_team_pressure_df2[[\"defensiveTeam\", \"down\", \"to_go_str\", \"pressure\"]]"
   ]
  },
  {
   "cell_type": "code",
   "execution_count": null,
   "metadata": {},
   "outputs": [],
   "source": [
    "no_s_team_pressure_df3 = team_no_stunt_df[['defensiveTeam', 'to_go_str', 'pressure']].groupby(['defensiveTeam', 'to_go_str']).mean()\n",
    "no_s_team_pressure_df3['down']=\"all\"\n",
    "no_s_team_pressure_df3 = no_s_team_pressure_df3.reset_index()\n",
    "no_s_team_pressure_df3 = no_s_team_pressure_df3[[\"defensiveTeam\", \"down\", \"to_go_str\", \"pressure\"]]"
   ]
  },
  {
   "cell_type": "code",
   "execution_count": null,
   "metadata": {},
   "outputs": [],
   "source": [
    "no_s_team_pressure_df4 = team_no_stunt_df[['defensiveTeam', 'pressure']].groupby(['defensiveTeam']).mean()\n",
    "no_s_team_pressure_df4['to_go_str']=\"all\"\n",
    "no_s_team_pressure_df4['down']=\"all\"\n",
    "no_s_team_pressure_df4 = no_s_team_pressure_df4.reset_index()\n",
    "no_s_team_pressure_df4 = no_s_team_pressure_df4[[\"defensiveTeam\", \"down\", \"to_go_str\", \"pressure\"]]"
   ]
  },
  {
   "cell_type": "code",
   "execution_count": null,
   "metadata": {},
   "outputs": [],
   "source": [
    "no_s_team_pressure_dfall = no_s_team_pressure_df2.append(no_s_team_pressure_df3, ignore_index = True).append(no_s_team_pressure_df4, ignore_index = True)\n",
    "no_s_team_pressure_dfall = no_s_team_pressure_dfall.sort_values(by = ['defensiveTeam', 'down', 'to_go_str']).reset_index(drop=True)\n",
    "no_s_team_pressure_dfall = no_s_team_pressure_dfall.rename(columns={'defensiveTeam':'Team', 'down':'Down', 'to_go_str':'Yards to Go', 'pressure':'No Stunt Pressure %'})\n",
    "if qa_check:\n",
    "    print(no_s_team_pressure_dfall)"
   ]
  },
  {
   "cell_type": "code",
   "execution_count": null,
   "metadata": {},
   "outputs": [],
   "source": []
  },
  {
   "cell_type": "code",
   "execution_count": null,
   "metadata": {},
   "outputs": [],
   "source": [
    "yes_s_team_pressure_df1 = team_yes_stunt_df[['defensiveTeam', 'down', 'to_go_str', 'pressure']].groupby(['defensiveTeam', 'down', 'to_go_str']).mean()\n",
    "yes_s_team_pressure_df1 = yes_s_team_pressure_df1.reset_index()"
   ]
  },
  {
   "cell_type": "code",
   "execution_count": null,
   "metadata": {},
   "outputs": [],
   "source": [
    "yes_s_team_pressure_df2 = team_yes_stunt_df[['defensiveTeam', 'down', 'pressure']].groupby(['defensiveTeam', 'down']).mean()\n",
    "yes_s_team_pressure_df2['to_go_str']=\"all\"\n",
    "yes_s_team_pressure_df2 = yes_s_team_pressure_df2.reset_index()\n",
    "yes_s_team_pressure_df2 = yes_s_team_pressure_df2[[\"defensiveTeam\", \"down\", \"to_go_str\", \"pressure\"]]"
   ]
  },
  {
   "cell_type": "code",
   "execution_count": null,
   "metadata": {},
   "outputs": [],
   "source": [
    "yes_s_team_pressure_df3 = team_yes_stunt_df[['defensiveTeam', 'to_go_str', 'pressure']].groupby(['defensiveTeam', 'to_go_str']).mean()\n",
    "yes_s_team_pressure_df3['down']=\"all\"\n",
    "yes_s_team_pressure_df3 = yes_s_team_pressure_df3.reset_index()\n",
    "yes_s_team_pressure_df3 = yes_s_team_pressure_df3[[\"defensiveTeam\", \"down\", \"to_go_str\", \"pressure\"]]"
   ]
  },
  {
   "cell_type": "code",
   "execution_count": null,
   "metadata": {},
   "outputs": [],
   "source": [
    "yes_s_team_pressure_df4 = team_yes_stunt_df[['defensiveTeam', 'pressure']].groupby(['defensiveTeam']).mean()\n",
    "yes_s_team_pressure_df4['to_go_str']=\"all\"\n",
    "yes_s_team_pressure_df4['down']=\"all\"\n",
    "yes_s_team_pressure_df4 = yes_s_team_pressure_df4.reset_index()\n",
    "yes_s_team_pressure_df4 = yes_s_team_pressure_df4[[\"defensiveTeam\", \"down\", \"to_go_str\", \"pressure\"]]"
   ]
  },
  {
   "cell_type": "code",
   "execution_count": null,
   "metadata": {},
   "outputs": [],
   "source": [
    "yes_s_team_pressure_dfall = yes_s_team_pressure_df2.append(yes_s_team_pressure_df3, ignore_index = True).append(yes_s_team_pressure_df4, ignore_index = True)\n",
    "yes_s_team_pressure_dfall = yes_s_team_pressure_dfall.sort_values(by = ['defensiveTeam', 'down', 'to_go_str']).reset_index(drop=True)\n",
    "yes_s_team_pressure_dfall = yes_s_team_pressure_dfall.rename(columns={'defensiveTeam':'Team', 'down':'Down', 'to_go_str':'Yards to Go', 'pressure':'Stunt Pressure %'})\n",
    "if qa_check:\n",
    "    print(yes_s_team_pressure_dfall)"
   ]
  },
  {
   "cell_type": "code",
   "execution_count": null,
   "metadata": {},
   "outputs": [],
   "source": [
    "merged_pressure_df = pd.merge(no_s_team_pressure_dfall, yes_s_team_pressure_dfall, how = \"left\", on = [\"Team\", \"Down\", \"Yards to Go\"])\n",
    "merged_pressure_df = merged_pressure_df[merged_pressure_df[\"Team\"] == comparison_team].fillna(0).reset_index(drop=True)\n",
    "if qa_check:\n",
    "    print(merged_pressure_df)"
   ]
  },
  {
   "cell_type": "code",
   "execution_count": null,
   "metadata": {},
   "outputs": [],
   "source": [
    "merged_pressure_df['stuntIndex'] = (1+(merged_pressure_df['Stunt Pressure %']-merged_pressure_df['No Stunt Pressure %'])/merged_pressure_df['No Stunt Pressure %'])*100\n",
    "if qa_check:\n",
    "    print(merged_pressure_df)"
   ]
  },
  {
   "cell_type": "code",
   "execution_count": null,
   "metadata": {},
   "outputs": [],
   "source": [
    "## Add pressure info to PDF\n",
    "\n",
    "pdf.set_font('Arial', 'B', 14)\n",
    "pdf.cell(w=0, h=10, txt=\"Pressure Rates when stunting vs non-stunt plays\", ln=1)\n",
    "pdf.set_font('Arial', '', 8)\n",
    "\n",
    "high_press_df = merged_pressure_df[merged_pressure_df['stuntIndex'] > 100 + comparison_threshold].reset_index(drop=True)\n",
    "if high_press_df.shape[0] == 0:\n",
    "    high_str = comparison_team+\"does not have a significantly higher pressure rate when stunting than not in any major situation\"\n",
    "    pdf.cell(w=0, h=5, txt=high_str, ln=1)\n",
    "    print(high_str)\n",
    "else:\n",
    "    for i in range(high_press_df.shape[0]):\n",
    "        high_str = \"For down = \"+str(high_press_df['Down'][i])+\" and yards to go = \"+high_press_df['Yards to Go'][i]+\" \"+comparison_team+\" gets pressure when performing a stunt on \"+str(round(100*high_press_df['Stunt Pressure %'][i], 2))+\"% of plays compared to \"+str(round(100*high_press_df['No Stunt Pressure %'][i], 2))+\"% on plays with no stunt\"\n",
    "        pdf.cell(w=0, h=5, txt=high_str, ln=1)\n",
    "        print(high_str)"
   ]
  },
  {
   "cell_type": "code",
   "execution_count": null,
   "metadata": {},
   "outputs": [],
   "source": [
    "## Add pressure info to PDF\n",
    "\n",
    "low_press_df = merged_pressure_df[merged_pressure_df['stuntIndex'] < 100 - comparison_threshold].reset_index(drop=True)\n",
    "if low_press_df.shape[0] == 0:\n",
    "    low_str = comparison_team, \"does not have a significantly lower pressure rate when stunting than not in any major situation\"\n",
    "    print(low_str)\n",
    "    pdf.cell(w=0, h=5, txt=low_str, ln=1)\n",
    "else:\n",
    "    for i in range(low_press_df.shape[0]):\n",
    "        low_str = \"For down = \"+str(low_press_df['Down'][i])+\" and yards to go = \"+low_press_df['Yards to Go'][i]+\" \"+comparison_team+\" gets pressure when performing a stunt on \"+str(round(100*low_press_df['Stunt Pressure %'][i], 2))+\"% of plays compared to \"+str(round(100*low_press_df['No Stunt Pressure %'][i], 2))+\"% on plays with no stunt\"\n",
    "        print(low_str)\n",
    "        pdf.cell(w=0, h=5, txt=low_str, ln=1)\n",
    "        \n",
    "pdf.cell(w=30, h=10, txt='', border=0, ln=1, align='C')   "
   ]
  },
  {
   "cell_type": "code",
   "execution_count": null,
   "metadata": {},
   "outputs": [],
   "source": []
  },
  {
   "cell_type": "code",
   "execution_count": null,
   "metadata": {},
   "outputs": [],
   "source": [
    "## Add pressure info to PDF\n",
    "\n",
    "df = merged_pressure_df\n",
    "\n",
    "pdf.set_font('Arial', 'B', 8)\n",
    "pdf.cell(w=30, h=10, txt='Team', border=1, ln=0, align='C')\n",
    "pdf.cell(w=30, h=10, txt='Down', border=1, ln=0, align='C')\n",
    "pdf.cell(w=30, h=10, txt='Yards to Go', border=1, ln=0, align='C')\n",
    "pdf.cell(w=30, h=10, txt='No Stunt Pressure %', border=1, ln=0, align='C')\n",
    "pdf.cell(w=30, h=10, txt='Stunt Pressure %', border=1, ln=1, align='C')\n",
    "# Table contents\n",
    "pdf.set_font('Arial', '', 6)\n",
    "for i in range(0, len(df)):\n",
    "    pdf.cell(w=30, h=5, \n",
    "             txt=df['Team'].iloc[i], \n",
    "             border=1, ln=0, align='C')\n",
    "    pdf.cell(w=30, h=5, \n",
    "             txt=str(df['Down'].iloc[i]), \n",
    "             border=1, ln=0, align='C')\n",
    "    pdf.cell(w=30, h=5, \n",
    "             txt=df['Yards to Go'].iloc[i], \n",
    "             border=1, ln=0, align='C')\n",
    "    pdf.cell(w=30, h=5, \n",
    "             txt=str(100*(round(df['No Stunt Pressure %'].iloc[i],4)))+'%', \n",
    "             border=1, ln=0, align='C')\n",
    "    pdf.cell(w=30, h=5, \n",
    "             txt=str(100*(round(df['Stunt Pressure %'].iloc[i],4)))+'%', \n",
    "             border=1, ln=1, align='C')\n",
    "\n",
    "pdf.cell(w=30, h=10, txt='', border=0, ln=1, align='C')    "
   ]
  },
  {
   "cell_type": "code",
   "execution_count": null,
   "metadata": {},
   "outputs": [],
   "source": []
  },
  {
   "cell_type": "code",
   "execution_count": null,
   "metadata": {},
   "outputs": [],
   "source": [
    "### Stunts by defensive personel\n",
    "\n",
    "team_formation_df = stunt_filtered_df[stunt_filtered_df['defensiveTeam'] == comparison_team]\n",
    "team_formation_stunt_df = team_formation_df[['defensiveTeam', 'personnelD', 'stunt']].groupby(['defensiveTeam', 'personnelD']).mean().reset_index()\n",
    "team_formation_count_df = team_formation_df[['defensiveTeam', 'personnelD', 'stunt']].groupby(['defensiveTeam', 'personnelD']).count().rename(columns={'stunt':'count'}).reset_index()\n",
    "team_formation_summary_df = pd.merge(team_formation_stunt_df, team_formation_count_df, how = \"left\", on = [\"defensiveTeam\", \"personnelD\"])\n",
    "print(comparison_team, \"'s stunt tendancies by defensive personnnel:\")\n",
    "team_formation_summary_df = team_formation_summary_df.rename(columns={'defensiveTeam':'Team', 'personnelD':'Defensive Personnel', 'stunt':'Stunt Percentage', 'count':'Total Play Count'})\n",
    "team_formation_summary_df"
   ]
  },
  {
   "cell_type": "code",
   "execution_count": null,
   "metadata": {},
   "outputs": [],
   "source": [
    "### Stunts by defensive personel\n",
    "\n",
    "team_formation_df2 = stunt_filtered_df[stunt_filtered_df['defensiveTeam'] == comparison_team]\n",
    "team_formation_stunt_df2 = team_formation_df2[['defensiveTeam', 'personnelO', 'stunt']].groupby(['defensiveTeam', 'personnelO']).mean().reset_index()\n",
    "team_formation_count_df2 = team_formation_df2[['defensiveTeam', 'personnelO', 'stunt']].groupby(['defensiveTeam', 'personnelO']).count().rename(columns={'stunt':'count'}).reset_index()\n",
    "team_formation_summary_df2 = pd.merge(team_formation_stunt_df2, team_formation_count_df2, how = \"left\", on = [\"defensiveTeam\", \"personnelO\"])\n",
    "print(comparison_team, \"'s stunt tendancies by opponent's offensive personnnel:\")\n",
    "team_formation_summary_df2 = team_formation_summary_df2.rename(columns={'defensiveTeam':'Team', 'personnelO':'Offensive Personnel', 'stunt':'Stunt Percentage', 'count':'Total Play Count'})\n",
    "team_formation_summary_df2"
   ]
  },
  {
   "cell_type": "code",
   "execution_count": null,
   "metadata": {},
   "outputs": [],
   "source": []
  },
  {
   "cell_type": "code",
   "execution_count": null,
   "metadata": {},
   "outputs": [],
   "source": [
    "pdf.set_font('Arial', 'B', 14)\n",
    "pdf.cell(w=0, h=10, txt=\"Stunt rate by offensive personnel faced\", ln=1)\n",
    "pdf.set_font('Arial', '', 10)\n",
    "\n",
    "df = team_formation_summary_df2\n",
    "\n",
    "# Table Header\n",
    "pdf.set_font('Arial', 'B', 8)\n",
    "pdf.cell(w=30, h=8, txt='Team', border=1, ln=0, align='C')\n",
    "pdf.cell(w=30, h=8, txt='Offensive Personnel', border=1, ln=0, align='C')\n",
    "pdf.cell(w=30, h=8, txt='Stunt Percentage', border=1, ln=0, align='C')\n",
    "pdf.cell(w=30, h=8, txt='Total Play Count', border=1, ln=1, align='C')\n",
    "# Table contents\n",
    "pdf.set_font('Arial', '', 6)\n",
    "for i in range(0, len(df)):\n",
    "    pdf.cell(w=30, h=5, \n",
    "             txt=df['Team'].iloc[i], \n",
    "             border=1, ln=0, align='C')\n",
    "    pdf.cell(w=30, h=5, \n",
    "             txt=df['Offensive Personnel'].iloc[i], \n",
    "             border=1, ln=0, align='C')\n",
    "    pdf.cell(w=30, h=5, \n",
    "             txt=str(100*(round(df['Stunt Percentage'].iloc[i],4)))+'%', \n",
    "             border=1, ln=0, align='C')\n",
    "    pdf.cell(w=30, h=5, \n",
    "             txt=df['Total Play Count'].iloc[i].astype(str), \n",
    "             border=1, ln=1, align='C')\n",
    "    \n",
    "pdf.cell(w=30, h=10, txt='', border=0, ln=1, align='C')  "
   ]
  },
  {
   "cell_type": "code",
   "execution_count": null,
   "metadata": {},
   "outputs": [],
   "source": [
    "pdf.set_font('Arial', 'B', 14)\n",
    "pdf.cell(w=0, h=10, txt=\"Stunt rate by defensive personnel\", ln=1)\n",
    "pdf.set_font('Arial', '', 10)\n",
    "\n",
    "df = team_formation_summary_df\n",
    "\n",
    "# Table Header\n",
    "pdf.set_font('Arial', 'B', 8)\n",
    "pdf.cell(w=30, h=8, txt='Team', border=1, ln=0, align='C')\n",
    "pdf.cell(w=30, h=8, txt='Defensive Personnel', border=1, ln=0, align='C')\n",
    "pdf.cell(w=30, h=8, txt='Stunt Percentage', border=1, ln=0, align='C')\n",
    "pdf.cell(w=30, h=8, txt='Total Play Count', border=1, ln=1, align='C')\n",
    "# Table contents\n",
    "pdf.set_font('Arial', '', 6)\n",
    "for i in range(0, len(df)):\n",
    "    pdf.cell(w=30, h=5, \n",
    "             txt=df['Team'].iloc[i], \n",
    "             border=1, ln=0, align='C')\n",
    "    pdf.cell(w=30, h=5, \n",
    "             txt=df['Defensive Personnel'].iloc[i], \n",
    "             border=1, ln=0, align='C')\n",
    "    pdf.cell(w=30, h=5, \n",
    "             txt=str(100*(round(df['Stunt Percentage'].iloc[i],4)))+'%', \n",
    "             border=1, ln=0, align='C')\n",
    "    pdf.cell(w=30, h=5, \n",
    "             txt=df['Total Play Count'].iloc[i].astype(str), \n",
    "             border=1, ln=1, align='C')\n",
    "    \n",
    "    \n",
    "pdf.output(str(comparison_team+'output.pdf'))"
   ]
  },
  {
   "cell_type": "code",
   "execution_count": null,
   "metadata": {},
   "outputs": [],
   "source": []
  }
 ],
 "metadata": {
  "kernelspec": {
   "display_name": "Python 3",
   "language": "python",
   "name": "python3"
  },
  "language_info": {
   "codemirror_mode": {
    "name": "ipython",
    "version": 3
   },
   "file_extension": ".py",
   "mimetype": "text/x-python",
   "name": "python",
   "nbconvert_exporter": "python",
   "pygments_lexer": "ipython3",
   "version": "3.8.5"
  },
  "vscode": {
   "interpreter": {
    "hash": "9cd9d0a62fb91837a4850c801985fe44effcdaf596c4ae06bec4f0aa0b607bcb"
   }
  }
 },
 "nbformat": 4,
 "nbformat_minor": 2
}
